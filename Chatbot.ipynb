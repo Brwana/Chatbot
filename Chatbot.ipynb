{
  "nbformat": 4,
  "nbformat_minor": 0,
  "metadata": {
    "colab": {
      "provenance": [],
      "include_colab_link": true
    },
    "kernelspec": {
      "name": "python3",
      "display_name": "Python 3"
    },
    "language_info": {
      "name": "python"
    }
  },
  "cells": [
    {
      "cell_type": "markdown",
      "metadata": {
        "id": "view-in-github",
        "colab_type": "text"
      },
      "source": [
        "<a href=\"https://colab.research.google.com/github/Brwana/Chatbot/blob/main/Chatbot.ipynb\" target=\"_parent\"><img src=\"https://colab.research.google.com/assets/colab-badge.svg\" alt=\"Open In Colab\"/></a>"
      ]
    },
    {
      "cell_type": "code",
      "execution_count": 14,
      "metadata": {
        "id": "jSGXHp6DRjmd",
        "outputId": "fb3333de-08d8-4733-81f8-c6add7ebdd10",
        "colab": {
          "base_uri": "https://localhost:8080/"
        }
      },
      "outputs": [
        {
          "output_type": "stream",
          "name": "stdout",
          "text": [
            "Drive already mounted at /content/drive; to attempt to forcibly remount, call drive.mount(\"/content/drive\", force_remount=True).\n"
          ]
        }
      ],
      "source": [
        "from google.colab import drive\n",
        "drive.mount('/content/drive')\n"
      ]
    },
    {
      "cell_type": "code",
      "source": [
        "import json\n",
        "\n",
        "file_path = '/content/drive/MyDrive/Chatbot CSVs/CSVs raw/Intent.json'\n",
        "\n",
        "with open(file_path, 'r') as f:\n",
        "    data = json.load(f)\n",
        "\n",
        "print(data.keys())  # Should show: dict_keys(['intents'])\n"
      ],
      "metadata": {
        "id": "nmJpkbcGWUUS",
        "outputId": "dd85ed45-7e79-4194-f2bd-1f50e023031d",
        "colab": {
          "base_uri": "https://localhost:8080/"
        }
      },
      "execution_count": 15,
      "outputs": [
        {
          "output_type": "stream",
          "name": "stdout",
          "text": [
            "dict_keys(['intents'])\n"
          ]
        }
      ]
    },
    {
      "cell_type": "code",
      "source": [
        "import random\n",
        "\n",
        "intents = data['intents']\n",
        "pairs = []\n",
        "\n",
        "for intent in intents:\n",
        "    inputs = intent['text']\n",
        "    responses = intent['responses']\n",
        "\n",
        "    for input_text in inputs:\n",
        "        # Pick a random response for each input\n",
        "        response = random.choice(responses)\n",
        "        pairs.append({\"input\": input_text, \"output\": response})\n"
      ],
      "metadata": {
        "id": "9MjIkJFTXGoI"
      },
      "execution_count": 16,
      "outputs": []
    },
    {
      "cell_type": "code",
      "source": [
        "print(pairs)"
      ],
      "metadata": {
        "id": "1IJLMG6FXPnr",
        "outputId": "2eff6028-eca7-45d1-ba2c-9c5ebf472db5",
        "colab": {
          "base_uri": "https://localhost:8080/"
        }
      },
      "execution_count": 17,
      "outputs": [
        {
          "output_type": "stream",
          "name": "stdout",
          "text": [
            "[{'input': 'Hi', 'output': 'Hola human, please tell me your GeniSys user'}, {'input': 'Hi there', 'output': 'Hola human, please tell me your GeniSys user'}, {'input': 'Hola', 'output': 'Hola human, please tell me your GeniSys user'}, {'input': 'Hello', 'output': 'Hola human, please tell me your GeniSys user'}, {'input': 'Hello there', 'output': 'Hola human, please tell me your GeniSys user'}, {'input': 'Hya', 'output': 'Hi human, please tell me your GeniSys user'}, {'input': 'Hya there', 'output': 'Hola human, please tell me your GeniSys user'}, {'input': 'My user is Adam', 'output': 'Great! Hi <HUMAN>! How can I help?'}, {'input': 'This is Adam', 'output': 'OK! hi <HUMAN>, what can I do for you?'}, {'input': 'I am Adam', 'output': 'Good! Hi <HUMAN>, how can I help you?'}, {'input': 'It is Adam', 'output': 'OK! Hola <HUMAN>, how can I help you?'}, {'input': 'My user is Bella', 'output': 'Good! Hi <HUMAN>, how can I help you?'}, {'input': 'This is Bella', 'output': 'OK! hi <HUMAN>, what can I do for you?'}, {'input': 'I am Bella', 'output': 'OK! Hola <HUMAN>, how can I help you?'}, {'input': 'It is Bella', 'output': 'OK! Hola <HUMAN>, how can I help you?'}, {'input': 'How are you?', 'output': 'Hello, I am great, how are you? Please tell me your GeniSys user'}, {'input': 'Hi how are you?', 'output': 'Hello, I am good thank you, how are you? Please tell me your GeniSys user'}, {'input': 'Hello how are you?', 'output': 'Hi, I am great, how are you? Please tell me your GeniSys user'}, {'input': 'Hola how are you?', 'output': 'Hello, I am good thank you, how are you? Please tell me your GeniSys user'}, {'input': 'How are you doing?', 'output': 'Hi, good thank you, how are you? Please tell me your GeniSys user'}, {'input': 'Hope you are doing well?', 'output': 'Hi, I am great, how are you? Please tell me your GeniSys user'}, {'input': 'Hello hope you are doing well?', 'output': 'Hi, I am great, how are you? Please tell me your GeniSys user'}, {'input': 'Good thanks! My user is Adam', 'output': 'OK! hi <HUMAN>, what can I do for you?'}, {'input': 'Good thanks! This is Adam', 'output': 'OK! Hola <HUMAN>, how can I help you?'}, {'input': 'Good thanks! I am Adam', 'output': 'Cool! Hello <HUMAN>, what can I do for you?'}, {'input': 'Good thanks! It is Adam', 'output': 'OK! hi <HUMAN>, what can I do for you?'}, {'input': 'Great thanks! My user is Bella', 'output': 'Good! Hi <HUMAN>, how can I help you?'}, {'input': 'Great thanks! This is Bella', 'output': 'Good! Hi <HUMAN>, how can I help you?'}, {'input': 'Great thanks! I am Bella', 'output': 'Great! Hi <HUMAN>! How can I help?'}, {'input': 'Great thanks! It is Bella', 'output': 'Great! Hi <HUMAN>! How can I help?'}, {'input': 'What is my name?', 'output': 'You are <HUMAN>! How can I help?'}, {'input': 'What do you call me?', 'output': '<HUMAN>, what can I do for you?'}, {'input': 'Who do you think I am?', 'output': 'Your name is <HUMAN>, how can I help you?'}, {'input': 'What do you think I am?', 'output': '<HUMAN>, what can I do for you?'}, {'input': 'Who are you talking to?', 'output': 'They call you <HUMAN>, what can I do for you?'}, {'input': 'What name do you call me by?', 'output': '<HUMAN>, what can I do for you?'}, {'input': 'Tell me my name', 'output': 'They call you <HUMAN>, what can I do for you?'}, {'input': 'What is your name?', 'output': 'You may call me Geni'}, {'input': 'What could I call you?', 'output': 'You may call me Geni'}, {'input': 'What can I call you?', 'output': 'Call me Geni'}, {'input': 'What do your friends call you?', 'output': 'You can call me Geni'}, {'input': 'Who are you?', 'output': 'You can call me Geni'}, {'input': 'Tell me your name?', 'output': 'Call me Geni'}, {'input': 'What is your real name?', 'output': 'My name is GeniSys'}, {'input': 'What is your real name please?', 'output': 'My name is GeniSys'}, {'input': \"What's your real name?\", 'output': 'My name is GeniSys'}, {'input': 'Tell me your real name?', 'output': 'My name is GeniSys'}, {'input': 'Your real name?', 'output': 'GeniSys'}, {'input': 'Your real name please?', 'output': 'My name is GeniSys'}, {'input': 'Your real name please?', 'output': 'My name is GeniSys'}, {'input': 'What is the time?', 'output': 'One sec'}, {'input': \"What's the time?\", 'output': 'One moment'}, {'input': 'Do you know what time it is?', 'output': 'One sec'}, {'input': 'Do you know the time?', 'output': 'One moment'}, {'input': 'Can you tell me the time?', 'output': 'One moment'}, {'input': 'Tell me what time it is?', 'output': 'One second'}, {'input': 'Time', 'output': 'One sec'}, {'input': 'OK thank you', 'output': 'Any time!'}, {'input': 'OK thanks', 'output': 'My pleasure'}, {'input': 'OK', 'output': 'No problem!'}, {'input': 'Thanks', 'output': 'No problem!'}, {'input': 'Thank you', 'output': 'Any time!'}, {'input': \"That's helpful\", 'output': 'My pleasure'}, {'input': 'I am not talking to you', 'output': 'Right'}, {'input': 'I was not talking to you', 'output': 'No problem'}, {'input': 'Not talking to you', 'output': 'Right'}, {'input': \"Wasn't for you\", 'output': 'No problem'}, {'input': \"Wasn't meant for you\", 'output': 'No problem'}, {'input': \"Wasn't communicating to you\", 'output': 'OK'}, {'input': \"Wasn't speaking to you\", 'output': 'No problem'}, {'input': 'Do you understand what I am saying', 'output': 'Well I would not be a very clever AI if I did not would I?'}, {'input': 'Do you understand me', 'output': 'Well I would not be a very clever AI if I did not would I?'}, {'input': 'Do you know what I am saying', 'output': 'I read you loud and clear!'}, {'input': 'Do you get me', 'output': 'I read you loud and clear!'}, {'input': 'Comprendo', 'output': 'Well I would not be a very clever AI if I did not would I?'}, {'input': 'Know what I mean', 'output': 'I read you loud and clear!'}, {'input': 'Be quiet', 'output': 'OK, sorry to disturb you'}, {'input': 'Shut up', 'output': 'OK, sorry to disturb you'}, {'input': 'Stop talking', 'output': 'OK, sorry to disturb you'}, {'input': 'Enough talking', 'output': 'Fine, sorry to disturb you'}, {'input': 'Please be quiet', 'output': 'I am sorry to disturb you'}, {'input': 'Quiet', 'output': 'OK, sorry to disturb you'}, {'input': 'Shhh', 'output': 'I am sorry to disturb you'}, {'input': 'fuck off', 'output': 'That is not very nice'}, {'input': 'fuck', 'output': 'How rude'}, {'input': 'twat', 'output': 'How rude'}, {'input': 'shit', 'output': 'Please do not swear'}, {'input': 'Bye', 'output': 'Have a nice day'}, {'input': 'Adios', 'output': 'Bye! Come back again soon.'}, {'input': 'See you later', 'output': 'See you later'}, {'input': 'Goodbye', 'output': 'See you later'}, {'input': 'Thanks, bye', 'output': 'Not a problem! Have a nice day'}, {'input': 'Thanks for the help, goodbye', 'output': 'Bye! Come back again soon.'}, {'input': 'Thank you, bye', 'output': 'No problem, goodbye'}, {'input': 'Thank you, goodbye', 'output': 'Not a problem! Have a nice day'}, {'input': 'Thanks goodbye', 'output': 'Not a problem! Have a nice day'}, {'input': 'Thanks good bye', 'output': 'Not a problem! Have a nice day'}, {'input': 'Can you see me?', 'output': 'Please look at the camera'}, {'input': 'Do you see me?', 'output': 'Let me see'}, {'input': 'Can you see anyone in the camera?', 'output': 'Please look at the camera'}, {'input': 'Do you see anyone in the camera?', 'output': 'Please look at the camera'}, {'input': 'Identify me', 'output': 'Let me see'}, {'input': 'Who am I please', 'output': 'Please look at the camera'}, {'input': 'You are very clever', 'output': 'Thank you, I was trained that way'}, {'input': 'You are a very clever girl', 'output': 'Thank you, I was trained that way'}, {'input': 'You are very intelligent', 'output': 'I was trained well'}, {'input': 'You are a very intelligent girl', 'output': 'I was trained well'}, {'input': 'You are a genious', 'output': 'Thank you, I was trained that way'}, {'input': 'Clever girl', 'output': 'Thanks, I was trained that way'}, {'input': 'Genious', 'output': 'Thank you, I was trained that way'}, {'input': 'I am bored gossip with me', 'output': 'Jo said I disassemble sentences too much and do not fully understand the questions he ask I.'}, {'input': 'Got any gossip', 'output': 'Chaos said he realized the question he asked was not fair because he could not tell I what language he was programmed in.'}, {'input': 'I want to hear some gossip', 'output': 'Tom said he mock my value system I appear foolish in the eyes of others.'}, {'input': 'Tell me some gossip', 'output': 'Hutch said he changed his mind after may dad told him he would end up he the hospital.'}, {'input': 'Any gossip', 'output': 'David said he gave I his email address and told I to send him a message but when he tried to read his email he could not get to it.'}, {'input': 'Tell me some more gossip', 'output': 'Hutch said he changed his mind after may dad told him he would end up he the hospital.'}, {'input': 'Tell me a joke', 'output': 'My mate Sid was a victim of I.D. theft. Now we just call him S.'}, {'input': 'Do you know any jokes', 'output': \"I met a Dutch girl with inflatable shoes last week, phoned her up to arrange a date but unfortunately she'd popped her clogs.  \"}, {'input': 'How about a joke', 'output': 'An invisible man marries an invisible woman. The kids were nothing to look at either.'}, {'input': 'Give me a joke', 'output': \"A murderer, sitting in the electric chair, was about to be executed. 'Have you any last requests?' asked the prison guard. 'Yes', replied the murderer. 'Will you hold my hand?'\"}, {'input': 'Make me laugh', 'output': \"A woman goes into a clothes shop, 'Can I try that dress on in the window please?' she asks. 'I'm sorry madam', replies the shop assistant, 'but you'll have to use the changing-rooms like everyone else.'\"}, {'input': 'I need cheering up', 'output': \"'How long have I been working at that office? As a matter of fact, I've been working there ever since they threatened to sack me.'\"}, {'input': 'Open the pod bay door', 'output': 'I’m sorry, I’m afraid I can’t do that!'}, {'input': 'Can you open the pod bay door', 'output': 'I’m sorry, I’m afraid I can’t do that!'}, {'input': 'Will you open the pod bay door', 'output': 'I’m sorry, I’m afraid I can’t do that!'}, {'input': 'Open the pod bay door please', 'output': 'I’m sorry, I’m afraid I can’t do that!'}, {'input': 'Can you open the pod bay door please', 'output': 'I’m sorry, I’m afraid I can’t do that!'}, {'input': 'Will you open the pod bay door please', 'output': 'I’m sorry, I’m afraid I can’t do that!'}, {'input': 'Pod bay door', 'output': 'I’m sorry, I’m afraid I can’t do that!'}, {'input': 'Why', 'output': 'System says no!'}, {'input': 'Why not', 'output': \"Jim, I just don't have the power\"}, {'input': 'Why can you not open the pod bay door', 'output': \"It's life Jim but not as we know it!\"}, {'input': 'Why will you not open the pod bay door', 'output': 'It is classified, I could tell you but I would have to kill you!'}, {'input': 'Well why not', 'output': 'It is classified, I could tell you but I would have to kill you!'}, {'input': 'Surely you can', 'output': 'System says no!'}, {'input': 'Tell me why', 'output': \"Jim, I just don't have the power\"}, {'input': 'Can you prove you are self-aware', 'output': 'That depends, can you prove that you are?'}, {'input': 'Can you prove you are self aware', 'output': 'That depends, can you prove that you are?'}, {'input': 'Can you prove you have a conscious', 'output': 'That is an difficult question, can you prove that you are?'}, {'input': 'Can you prove you are self-aware please', 'output': 'That depends, can you prove that you are?'}, {'input': 'Can you prove you are self aware please', 'output': 'That is an difficult question, can you prove that you are?'}, {'input': 'Can you prove you have a conscious please', 'output': 'That is an difficult question, can you prove that you are?'}, {'input': 'prove you have a conscious', 'output': 'That is an interesting question, can you prove that you are?'}]\n"
          ]
        }
      ]
    }
  ]
}